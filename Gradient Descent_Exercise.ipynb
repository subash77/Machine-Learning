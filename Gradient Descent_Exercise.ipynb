{
 "cells": [
  {
   "cell_type": "code",
   "execution_count": 1,
   "metadata": {},
   "outputs": [],
   "source": [
    "import numpy as np\n",
    "import pandas as pd\n",
    "import math\n",
    "from sklearn.linear_model import LinearRegression"
   ]
  },
  {
   "cell_type": "code",
   "execution_count": 2,
   "metadata": {},
   "outputs": [],
   "source": [
    "def predict_using_sklearn():\n",
    "    df = pd.read_csv('C:/CB ML/py-master/ML/3_gradient_descent/Exercise/test_scores.csv')\n",
    "    lr = LinearRegression()\n",
    "    lr.fit(df[['math']],df.cs)\n",
    "    return lr.coef_,lr.intercept_"
   ]
  },
  {
   "cell_type": "code",
   "execution_count": 4,
   "metadata": {},
   "outputs": [
    {
     "name": "stdout",
     "output_type": "stream",
     "text": [
      "m98.918,b1.3980000000000001,cost0,iteration0\n",
      "Using gradient descent function: Coef 98.918 Intercept 1.3980000000000001\n",
      "Using sklearn:  Coef [1.01773624] Intercept 1.9152193111569176\n"
     ]
    }
   ],
   "source": [
    "def gradient_descent(x,y):\n",
    "    m_curr = b_curr = 0\n",
    "    iterations=1000\n",
    "    n=len(x)\n",
    "    learning_rate = 0.01\n",
    "    prev_cost = 0\n",
    "    \n",
    "    for i in range(iterations):\n",
    "        y_predicted = m_curr * x + b_curr\n",
    "        cost = (1/n)*sum(val**2 for val in (y-y_predicted))\n",
    "        md = (-2/n)*sum(x*(y-y_predicted))\n",
    "        bd = (-2/n)*sum(y-y_predicted)\n",
    "        m_curr = m_curr - learning_rate * md\n",
    "        b_curr = b_curr - learning_rate * bd\n",
    "        if math.isclose(cost,prev_cost,rel_tol = 1e-20):\n",
    "            break\n",
    "        cost = prev_cost\n",
    "        print(f'm{m_curr},b{b_curr},cost{cost},iteration{i}')\n",
    "        \n",
    "        return m_curr,b_curr\n",
    "    \n",
    "if __name__ == \"__main__\":\n",
    "    df = pd.read_csv('C:/CB ML/py-master/ML/3_gradient_descent/Exercise/test_scores.csv')\n",
    "    x = np.array(df.math)\n",
    "    y = np.array(df.cs)\n",
    "    \n",
    "    m,b = gradient_descent(x,y)\n",
    "    print(\"Using gradient descent function:\",f'Coef {m} Intercept {b}')\n",
    "    \n",
    "    m_sklearn,b_sklearn = predict_using_sklearn()\n",
    "    \n",
    "    print(\"Using sklearn:\",f' Coef {m_sklearn} Intercept {b_sklearn}')\n",
    "    \n",
    "    \n",
    "    \n",
    "              \n",
    "        "
   ]
  },
  {
   "cell_type": "code",
   "execution_count": null,
   "metadata": {},
   "outputs": [],
   "source": []
  }
 ],
 "metadata": {
  "kernelspec": {
   "display_name": "Python 3",
   "language": "python",
   "name": "python3"
  },
  "language_info": {
   "codemirror_mode": {
    "name": "ipython",
    "version": 3
   },
   "file_extension": ".py",
   "mimetype": "text/x-python",
   "name": "python",
   "nbconvert_exporter": "python",
   "pygments_lexer": "ipython3",
   "version": "3.7.4"
  }
 },
 "nbformat": 4,
 "nbformat_minor": 2
}
