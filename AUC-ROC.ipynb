{
 "cells": [
  {
   "cell_type": "code",
   "execution_count": 1,
   "id": "3b545247",
   "metadata": {},
   "outputs": [],
   "source": [
    "from sklearn.datasets import make_classification"
   ]
  },
  {
   "cell_type": "code",
   "execution_count": 2,
   "id": "7daee2b9",
   "metadata": {},
   "outputs": [],
   "source": [
    "from sklearn.model_selection import train_test_split"
   ]
  },
  {
   "cell_type": "code",
   "execution_count": 3,
   "id": "86953962",
   "metadata": {},
   "outputs": [],
   "source": [
    "X,y = make_classification(n_samples=1000,n_classes=2,n_features=20,random_state=27)"
   ]
  },
  {
   "cell_type": "code",
   "execution_count": 4,
   "id": "9492b66a",
   "metadata": {},
   "outputs": [],
   "source": [
    "X_train,X_test,y_train,y_test = train_test_split(X,y,test_size=0.3,random_state=27)\n"
   ]
  },
  {
   "cell_type": "code",
   "execution_count": 5,
   "id": "6fc56acc",
   "metadata": {},
   "outputs": [],
   "source": [
    "from sklearn.linear_model import LogisticRegression\n",
    "from sklearn.neighbors import KNeighborsClassifier"
   ]
  },
  {
   "cell_type": "code",
   "execution_count": 6,
   "id": "6644fd21",
   "metadata": {},
   "outputs": [],
   "source": [
    "Model1 = LogisticRegression()"
   ]
  },
  {
   "cell_type": "code",
   "execution_count": 7,
   "id": "f4e6ca46",
   "metadata": {},
   "outputs": [],
   "source": [
    "Model2 = KNeighborsClassifier(n_neighbors=4)"
   ]
  },
  {
   "cell_type": "code",
   "execution_count": 8,
   "id": "27d107a4",
   "metadata": {},
   "outputs": [
    {
     "data": {
      "text/plain": [
       "KNeighborsClassifier(n_neighbors=4)"
      ]
     },
     "execution_count": 8,
     "metadata": {},
     "output_type": "execute_result"
    }
   ],
   "source": [
    "Model1.fit(X_train,y_train)\n",
    "Model2.fit(X_train,y_train)"
   ]
  },
  {
   "cell_type": "code",
   "execution_count": 9,
   "id": "6481f111",
   "metadata": {},
   "outputs": [],
   "source": [
    "pred_prob1 = Model1.predict_proba(X_test)\n",
    "pred_prob2 = Model2.predict_proba(X_test)"
   ]
  },
  {
   "cell_type": "code",
   "execution_count": 10,
   "id": "7fcb845e",
   "metadata": {},
   "outputs": [],
   "source": [
    "from sklearn.metrics import roc_curve"
   ]
  },
  {
   "cell_type": "code",
   "execution_count": 11,
   "id": "65121e33",
   "metadata": {},
   "outputs": [],
   "source": [
    "fpr1,tpr1,thresh1 =roc_curve(y_test,pred_prob1[:,1],pos_label=1)\n",
    "fpr2,tpr2,thresh2 = roc_curve(y_test,pred_prob2[:,1],pos_label=1)"
   ]
  },
  {
   "cell_type": "code",
   "execution_count": 12,
   "id": "058023c6",
   "metadata": {},
   "outputs": [],
   "source": [
    "random_probs = [0 for i in range(len(y_test))]"
   ]
  },
  {
   "cell_type": "code",
   "execution_count": 13,
   "id": "bfa18459",
   "metadata": {},
   "outputs": [],
   "source": [
    "p_fpr,p_tpr,_ = roc_curve(y_test,random_probs,pos_label=1)"
   ]
  },
  {
   "cell_type": "code",
   "execution_count": 14,
   "id": "66932a2f",
   "metadata": {},
   "outputs": [],
   "source": [
    "from sklearn.metrics import roc_auc_score"
   ]
  },
  {
   "cell_type": "code",
   "execution_count": 15,
   "id": "d21e2b83",
   "metadata": {},
   "outputs": [],
   "source": [
    "auc_score1 = roc_auc_score(y_test,pred_prob1[:,1])\n",
    "auc_score2 = roc_auc_score(y_test,pred_prob2[:,1])\n"
   ]
  },
  {
   "cell_type": "code",
   "execution_count": 16,
   "id": "0da2ccf2",
   "metadata": {},
   "outputs": [
    {
     "name": "stdout",
     "output_type": "stream",
     "text": [
      "0.9762374461979914 0.9233769727403157\n"
     ]
    }
   ],
   "source": [
    "print(auc_score1,auc_score2)"
   ]
  },
  {
   "cell_type": "code",
   "execution_count": 17,
   "id": "aa896895",
   "metadata": {},
   "outputs": [
    {
     "name": "stdout",
     "output_type": "stream",
     "text": [
      "[[ 1.80184652e+00 -3.05409573e-01 -1.36181156e+00 ...  1.75838081e+00\n",
      "   6.65014887e-01 -1.11518375e+00]\n",
      " [ 2.77004619e-01 -8.70119969e-01  9.96219012e-02 ...  1.11306528e+00\n",
      "  -1.27405890e+00  1.87486996e-03]\n",
      " [-7.13887927e-01 -2.68732324e-01  1.25697709e-01 ...  4.36011401e-01\n",
      "  -1.52041444e+00 -8.35442999e-01]\n",
      " ...\n",
      " [-5.90565478e-01 -9.83420382e-01 -5.95570642e-01 ...  2.08745145e-03\n",
      "  -4.04990235e-01 -1.77286149e-03]\n",
      " [-2.56158789e-01  7.26480959e-01 -1.42564512e+00 ...  1.18806159e+00\n",
      "  -6.75866294e-01 -6.44778511e-02]\n",
      " [ 6.02483848e-01  1.36921840e+00  6.36990314e-01 ...  6.51715759e-01\n",
      "  -7.79588362e-01 -3.99418767e-01]]\n"
     ]
    }
   ],
   "source": [
    "print(X_train)"
   ]
  },
  {
   "cell_type": "code",
   "execution_count": 18,
   "id": "38b47a49",
   "metadata": {},
   "outputs": [
    {
     "ename": "AttributeError",
     "evalue": "'numpy.ndarray' object has no attribute 'head'",
     "output_type": "error",
     "traceback": [
      "\u001b[1;31m---------------------------------------------------------------------------\u001b[0m",
      "\u001b[1;31mAttributeError\u001b[0m                            Traceback (most recent call last)",
      "\u001b[1;32m<ipython-input-18-73020798007e>\u001b[0m in \u001b[0;36m<module>\u001b[1;34m\u001b[0m\n\u001b[1;32m----> 1\u001b[1;33m \u001b[0mX_train\u001b[0m\u001b[1;33m.\u001b[0m\u001b[0mhead\u001b[0m\u001b[1;33m(\u001b[0m\u001b[1;33m)\u001b[0m\u001b[1;33m\u001b[0m\u001b[1;33m\u001b[0m\u001b[0m\n\u001b[0m",
      "\u001b[1;31mAttributeError\u001b[0m: 'numpy.ndarray' object has no attribute 'head'"
     ]
    }
   ],
   "source": [
    "X_train.head()"
   ]
  },
  {
   "cell_type": "code",
   "execution_count": 19,
   "id": "ad63794a",
   "metadata": {},
   "outputs": [],
   "source": [
    "import matplotlib.pyplot as plt"
   ]
  },
  {
   "cell_type": "code",
   "execution_count": 20,
   "id": "7e73af1d",
   "metadata": {},
   "outputs": [],
   "source": [
    "plt.style.use('seaborn')"
   ]
  },
  {
   "cell_type": "code",
   "execution_count": 26,
   "id": "48deb035",
   "metadata": {},
   "outputs": [
    {
     "data": {
      "image/png": "[encoded data removed]",
      "text/plain": [
       "<Figure size 576x396 with 1 Axes>"
      ]
     },
     "metadata": {},
     "output_type": "display_data"
    }
   ],
   "source": [
    "plt.plot(fpr1,tpr1,linestyle = '--',color = 'Orange', label = 'Logistic Regression')\n",
    "plt.plot(fpr2,tpr2,linestyle = '--',color = 'Green', label = 'KNN')\n",
    "plt.plot(p_fpr,p_tpr,linestyle = '--', color ='Blue')\n",
    "plt.legend(loc = 'best')\n",
    "plt.title('Roc Curve')\n",
    "plt.xlabel('False Positive Rate')\n",
    "plt.ylabel('True Positive Rate')\n",
    "plt.savefig('ROC',dpi = 300)\n",
    "plt.show()"
   ]
  },
  {
   "cell_type": "markdown",
   "id": "1a3853a9",
   "metadata": {},
   "source": [
    "# ROC AUC Multi Class\n"
   ]
  },
  {
   "cell_type": "code",
   "execution_count": 27,
   "id": "d7011b22",
   "metadata": {},
   "outputs": [],
   "source": [
    "from sklearn.multiclass import OneVsRestClassifier"
   ]
  },
  {
   "cell_type": "code",
   "execution_count": 28,
   "id": "1bf8c8d5",
   "metadata": {},
   "outputs": [],
   "source": [
    "from sklearn.metrics import roc_auc_score\n",
    "from sklearn.metrics import roc_curve"
   ]
  },
  {
   "cell_type": "code",
   "execution_count": 29,
   "id": "f59b5db4",
   "metadata": {},
   "outputs": [],
   "source": [
    "from sklearn.linear_model import LogisticRegression"
   ]
  },
  {
   "cell_type": "code",
   "execution_count": 30,
   "id": "46e4d9e6",
   "metadata": {},
   "outputs": [],
   "source": [
    "from sklearn.model_selection import train_test_split"
   ]
  },
  {
   "cell_type": "code",
   "execution_count": 31,
   "id": "b6645723",
   "metadata": {},
   "outputs": [],
   "source": [
    "X,y = make_classification(n_samples=1000,n_features=20,n_classes=3,random_state=42,n_informative=3)"
   ]
  },
  {
   "cell_type": "code",
   "execution_count": 32,
   "id": "086f45a7",
   "metadata": {},
   "outputs": [],
   "source": [
    "X_train,X_test,y_train,y_test = train_test_split(X,y,test_size=0.4,random_state=42)"
   ]
  },
  {
   "cell_type": "code",
   "execution_count": 33,
   "id": "58a0a74e",
   "metadata": {},
   "outputs": [],
   "source": [
    "clt = OneVsRestClassifier(LogisticRegression())"
   ]
  },
  {
   "cell_type": "code",
   "execution_count": 34,
   "id": "98f7d30b",
   "metadata": {},
   "outputs": [
    {
     "data": {
      "text/plain": [
       "OneVsRestClassifier(estimator=LogisticRegression())"
      ]
     },
     "execution_count": 34,
     "metadata": {},
     "output_type": "execute_result"
    }
   ],
   "source": [
    "clt.fit(X_train,y_train)"
   ]
  },
  {
   "cell_type": "code",
   "execution_count": 35,
   "id": "4c632a8f",
   "metadata": {},
   "outputs": [],
   "source": [
    "pred = clt.predict(X_test)"
   ]
  },
  {
   "cell_type": "code",
   "execution_count": 36,
   "id": "7a60b8dc",
   "metadata": {},
   "outputs": [],
   "source": [
    "pred_prob = clt.predict_proba(X_test)"
   ]
  },
  {
   "cell_type": "code",
   "execution_count": 37,
   "id": "49553bbb",
   "metadata": {},
   "outputs": [],
   "source": [
    "fpr = {}\n",
    "tpr = {}\n",
    "threshhold = {}"
   ]
  },
  {
   "cell_type": "code",
   "execution_count": 38,
   "id": "498be61c",
   "metadata": {},
   "outputs": [],
   "source": [
    "n_class = 3"
   ]
  },
  {
   "cell_type": "code",
   "execution_count": 41,
   "id": "da6a9030",
   "metadata": {},
   "outputs": [],
   "source": [
    "for i in range(n_class):\n",
    "    fpr[i],tpr[i],threshhold[i] = roc_curve(y_test,pred_prob[:,i],pos_label=i)"
   ]
  },
  {
   "cell_type": "code",
   "execution_count": 43,
   "id": "7c16dcdd",
   "metadata": {},
   "outputs": [
    {
     "data": {
      "text/plain": [
       "[<matplotlib.lines.Line2D at 0x1d222be9640>]"
      ]
     },
     "execution_count": 43,
     "metadata": {},
     "output_type": "execute_result"
    },
    {
     "data": {
      "image/png": "[encoded data removed]",
      "text/plain": [
       "<Figure size 576x396 with 1 Axes>"
      ]
     },
     "metadata": {},
     "output_type": "display_data"
    }
   ],
   "source": [
    "plt.plot(fpr[0],tpr[0],linestyle = '--',color = 'Orange', label = 'Class 0 vs Rest')\n",
    "plt.plot(fpr[1],tpr[1],linestyle = '--',color = 'Green', label = 'Class 0 vs Rest')\n",
    "plt.plot(fpr[2],tpr[2],linestyle = '--',color = 'Blue', label = 'Class 0 vs Rest')"
   ]
  },
  {
   "cell_type": "code",
   "execution_count": null,
   "id": "f4263390",
   "metadata": {},
   "outputs": [],
   "source": []
  }
 ],
 "metadata": {
  "kernelspec": {
   "display_name": "Python 3",
   "language": "python",
   "name": "python3"
  },
  "language_info": {
   "codemirror_mode": {
    "name": "ipython",
    "version": 3
   },
   "file_extension": ".py",
   "mimetype": "text/x-python",
   "name": "python",
   "nbconvert_exporter": "python",
   "pygments_lexer": "ipython3",
   "version": "3.9.5"
  }
 },
 "nbformat": 4,
 "nbformat_minor": 5
}
